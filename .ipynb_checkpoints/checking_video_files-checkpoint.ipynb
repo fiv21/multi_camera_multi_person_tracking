{
 "cells": [
  {
   "cell_type": "code",
   "execution_count": 3,
   "metadata": {},
   "outputs": [
    {
     "name": "stdout",
     "output_type": "stream",
     "text": [
      "False\n",
      "(False, None)\n"
     ]
    }
   ],
   "source": [
    "import cv2\n",
    "import time\n",
    "# Same command function as streaming, its just now we pass in the file path, nice!\n",
    "cap = cv2.VideoCapture('video1.avi')\n",
    "\n",
    "# FRAMES PER SECOND FOR VIDEO\n",
    "fps = 25\n",
    "\n",
    "\n",
    "print(cap.isOpened()) # False\n",
    "print(cap.read()) # (False, None)\n",
    "\n",
    "# Always a good idea to check if the video was acutally there\n",
    "# If you get an error at thsi step, triple check your file path!!\n",
    "# if cap.isOpened()== False: \n",
    "#     print(\"Error opening the video file.\")\n",
    "    \n",
    "\n",
    "# # While the video is opened\n",
    "# while cap.isOpened():\n",
    "    \n",
    "    \n",
    "    \n",
    "#     # Read the video file.\n",
    "#     ret, frame = cap.read()\n",
    "    \n",
    "#     # If we got frames, show them.\n",
    "#     if ret == True:\n",
    "              \n",
    "\n",
    "#          # Display the frame at same frame rate of recording\n",
    "#         # Watch lecture video for full explanation\n",
    "#         fps = cap.get(cv2.CAP_PROP_FPS)\n",
    "#         print(fps)\n",
    "#         time.sleep(1/fps)\n",
    "#         cv2.imshow('frame',frame)\n",
    " \n",
    "#         # Press q to quit\n",
    "#         if cv2.waitKey(25) & 0xFF == ord('q'):\n",
    "            \n",
    "#             break\n",
    " \n",
    "#     # Or automatically break this whole loop if the video is over.\n",
    "#     else:\n",
    "#         break\n",
    "        \n",
    "# cap.release()\n",
    "# # Closes all the frames\n",
    "# cv2.destroyAllWindows()"
   ]
  },
  {
   "cell_type": "code",
   "execution_count": null,
   "metadata": {},
   "outputs": [],
   "source": []
  },
  {
   "cell_type": "code",
   "execution_count": 2,
   "metadata": {},
   "outputs": [
    {
     "data": {
      "text/plain": [
       "'/home/kumar/multi_camera_multi_person_tracking'"
      ]
     },
     "execution_count": 2,
     "metadata": {},
     "output_type": "execute_result"
    }
   ],
   "source": [
    "import os\n",
    "os.getcwd()"
   ]
  },
  {
   "cell_type": "code",
   "execution_count": 9,
   "metadata": {},
   "outputs": [
    {
     "data": {
      "text/plain": [
       "1564554135.9372394"
      ]
     },
     "execution_count": 9,
     "metadata": {},
     "output_type": "execute_result"
    }
   ],
   "source": [
    "import time\n",
    "time.time()"
   ]
  },
  {
   "cell_type": "code",
   "execution_count": 6,
   "metadata": {},
   "outputs": [
    {
     "data": {
      "text/plain": [
       "'Wed Jul 31 12:06:38 2019'"
      ]
     },
     "execution_count": 6,
     "metadata": {},
     "output_type": "execute_result"
    }
   ],
   "source": [
    "time.asctime()"
   ]
  },
  {
   "cell_type": "code",
   "execution_count": 7,
   "metadata": {},
   "outputs": [
    {
     "data": {
      "text/plain": [
       "time.struct_time(tm_year=2019, tm_mon=7, tm_mday=31, tm_hour=12, tm_min=7, tm_sec=1, tm_wday=2, tm_yday=212, tm_isdst=0)"
      ]
     },
     "execution_count": 7,
     "metadata": {},
     "output_type": "execute_result"
    }
   ],
   "source": [
    "time.localtime()"
   ]
  },
  {
   "cell_type": "code",
   "execution_count": 6,
   "metadata": {},
   "outputs": [
    {
     "name": "stdout",
     "output_type": "stream",
     "text": [
      "Frames per second using video.get(cv2.CAP_PROP_FPS) : 0.0\n",
      "Capturing 120 frames\n",
      "Time taken : 0.0006551742553710938 seconds\n",
      "Estimated frames per second : 183157.37991266375\n"
     ]
    }
   ],
   "source": [
    "#!/usr/bin/env python\n",
    " \n",
    "import cv2\n",
    "import time\n",
    " \n",
    "if __name__ == '__main__' :\n",
    " \n",
    "    # Start default camera\n",
    "    video = cv2.VideoCapture(0);\n",
    "     \n",
    "    # Find OpenCV version\n",
    "    (major_ver, minor_ver, subminor_ver) = (cv2.__version__).split('.')\n",
    "     \n",
    "    # With webcam get(CV_CAP_PROP_FPS) does not work.\n",
    "    # Let's see for ourselves.\n",
    "     \n",
    "    if int(major_ver)  < 3 :\n",
    "        fps = video.get(cv2.CAP_PROP_FPS)\n",
    "        print (\"Frames per second using video.get(cv2.CAP_PROP_FPS): {0}\".format(fps))\n",
    "    else :\n",
    "        fps = video.get(cv2.CAP_PROP_FPS)\n",
    "        print (\"Frames per second using video.get(cv2.CAP_PROP_FPS) : {0}\".format(fps))\n",
    "     \n",
    " \n",
    "    # Number of frames to capture\n",
    "    num_frames = 120;\n",
    "     \n",
    "     \n",
    "    print (\"Capturing {0} frames\".format(num_frames))\n",
    " \n",
    "    # Start time\n",
    "    start = time.time()\n",
    "     \n",
    "    # Grab a few frames\n",
    "    for i in range(0, num_frames) :\n",
    "        ret, frame = video.read()\n",
    " \n",
    "     \n",
    "    # End time\n",
    "    end = time.time()\n",
    " \n",
    "    # Time elapsed\n",
    "    seconds = end - start\n",
    "    print (\"Time taken : {0} seconds\".format(seconds))\n",
    " \n",
    "    # Calculate frames per second\n",
    "    fps  = num_frames / seconds\n",
    "    print (\"Estimated frames per second : {0}\".format(fps))\n",
    " \n",
    "    # Release video\n",
    "    video.release()"
   ]
  },
  {
   "cell_type": "code",
   "execution_count": 7,
   "metadata": {},
   "outputs": [
    {
     "name": "stdout",
     "output_type": "stream",
     "text": [
      "1Kumar\n"
     ]
    }
   ],
   "source": [
    "print('{0}{1}'.format(1,'Kumar'))"
   ]
  },
  {
   "cell_type": "code",
   "execution_count": null,
   "metadata": {},
   "outputs": [],
   "source": []
  }
 ],
 "metadata": {
  "kernelspec": {
   "display_name": "Python 3",
   "language": "python",
   "name": "python3"
  },
  "language_info": {
   "codemirror_mode": {
    "name": "ipython",
    "version": 3
   },
   "file_extension": ".py",
   "mimetype": "text/x-python",
   "name": "python",
   "nbconvert_exporter": "python",
   "pygments_lexer": "ipython3",
   "version": "3.6.8"
  }
 },
 "nbformat": 4,
 "nbformat_minor": 2
}
